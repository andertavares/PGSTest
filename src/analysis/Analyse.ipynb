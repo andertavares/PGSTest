{
 "cells": [
  {
   "cell_type": "code",
   "execution_count": 43,
   "metadata": {},
   "outputs": [
    {
     "data": {
      "text/plain": [
       "[2, 8]"
      ]
     },
     "execution_count": 43,
     "metadata": {},
     "output_type": "execute_result"
    }
   ],
   "source": [
    "def parse_file(path):\n",
    "    \n",
    "    victory_count = [0, 0] #victories for p1 and p2\n",
    "\n",
    "    lines = open(path).readlines()[1:]\n",
    "\n",
    "    for line in lines:\n",
    "        winner = int(line.split(',')[0])\n",
    "        if winner == 0:\n",
    "            victory_count[0] += 1\n",
    "        elif winner == 1:\n",
    "            victory_count[1] += 1\n",
    "    return victory_count\n",
    "\n",
    "parse_file('../../output/test/LightRush_PGSSCriptChoiceRandom_basesWorkers32x32A.csv')"
   ]
  },
  {
   "cell_type": "code",
   "execution_count": 40,
   "metadata": {},
   "outputs": [],
   "source": [
    "import os\n",
    "import glob\n",
    "from collections import defaultdict\n",
    "\n",
    "#path = '../../output/LightRush_PGSSCriptChoiceRandom_BlockDiagonal9x8.csv'\n",
    "\n",
    "def results_per_map(inputdir):\n",
    "    file_list = glob.glob(os.path.join(inputdir, '*.csv'))\n",
    "\n",
    "    # usage: victories[mapname][player1][player2]\n",
    "    victories = defaultdict(lambda: defaultdict(lambda: defaultdict(lambda: 0)))\n",
    "\n",
    "    for path in file_list:\n",
    "        filename = os.path.splitext(os.path.basename(path))[0]\n",
    "        (p1, p2, mapname) = filename.split('_') \n",
    "\n",
    "        result = parse_file(path)\n",
    "        victories[mapname][p1][p2] += result[0]\n",
    "        victories[mapname][p2][p1] += result[1]\n",
    "        print(\"%s - %s v %s: %d\" % (mapname, p1, p2, result[0]))\n",
    "        print(\"%s - %s v %s: %d\" % (mapname, p2, p1, result[1]))\n",
    "\n",
    "    return victories\n",
    "\n",
    "#results_per_map('../../output')"
   ]
  },
  {
   "cell_type": "code",
   "execution_count": 38,
   "metadata": {},
   "outputs": [],
   "source": [
    "import os\n",
    "import re\n",
    "import glob\n",
    "from collections import defaultdict\n",
    "\n",
    "#path = '../../output/LightRush_PGSSCriptChoiceRandom_BlockDiagonal9x8.csv'\n",
    "\n",
    "def results_per_map_size(inputdir):\n",
    "    \"\"\"\n",
    "    Parses all result files from a directory, returning a dict.\n",
    "    When used like: returned_dict[dimensions][p1name][p2name], it gives\n",
    "    the number of victores of p1 vs p2 in all map of the given dimensions.\n",
    "    The dimensions are a string in the form WxH (width vs height)\n",
    "    :param inputdir:\n",
    "    :return:\n",
    "    \"\"\"\n",
    "    file_list = glob.glob(os.path.join(inputdir, '*.csv'))\n",
    "\n",
    "    # usage: victories[mapname][player1][player2]\n",
    "    victories = defaultdict(lambda: defaultdict(lambda: defaultdict(lambda: 0)))\n",
    "\n",
    "    for path in file_list:\n",
    "        filename = os.path.splitext(os.path.basename(path))[0]\n",
    "        (p1, p2, mapname) = filename.split('_')\n",
    "        dimensions = re.match(r\"\\D*(\\d+x\\d+)\\w*\", mapname).group(1)\n",
    "        \n",
    "        #print(dimensions)\n",
    "        \n",
    "        result = parse_file(path)\n",
    "        victories[dimensions][p1][p2] += result[0]\n",
    "        victories[dimensions][p2][p1] += result[1]\n",
    "\n",
    "    return victories\n",
    "\n",
    "#results_per_map_size('../../output')"
   ]
  },
  {
   "cell_type": "code",
   "execution_count": 41,
   "metadata": {},
   "outputs": [
    {
     "name": "stdout",
     "output_type": "stream",
     "text": [
      "basesWorkers32x32A - PGSSCriptChoiceRandom v LightRush: 10\n",
      "basesWorkers32x32A - LightRush v PGSSCriptChoiceRandom: 0\n",
      "basesWorkers32x32A - LightRush v PGSSCriptChoiceRandom: 10\n",
      "basesWorkers32x32A - PGSSCriptChoiceRandom v LightRush: 0\n",
      "PGSSCriptChoiceRandom,-,10\n",
      "LightRush,10,-\n"
     ]
    }
   ],
   "source": [
    "\n",
    "def write_crosstable(results, outdir):\n",
    "    \"\"\"\n",
    "    Receives the results, a 3d-dict, like results[mapname][p1name][p2name]\n",
    "    and generates one file per mapname in outdir. The file is a .csv with\n",
    "    a crosstable: the number of wins of the row player against the col. player\n",
    "    :param results:\n",
    "    :param outdir:\n",
    "    :return:\n",
    "    \"\"\"\n",
    "    #TODO some results are weird, especially when grouped by the dimensions\n",
    "    for mapname in results:\n",
    "        f = open(os.path.join(outdir, 'results_%s.csv' % mapname), 'w')\n",
    "\n",
    "        players = results[mapname]\n",
    "\n",
    "        # writes the header\n",
    "        f.write(','.join(['x'] + [player for player in players]) + '\\n')\n",
    "\n",
    "        # writes the cells (one row at a time)\n",
    "        # a - is written if there's no record between a pair of players\n",
    "        for p1 in players:\n",
    "            f.write('%s\\n' % ','.join([p1] + [str(results[mapname][p1].get(p2, '-')) for p2 in players]))\n",
    "            print(','.join([p1] + [str(results[mapname][p1].get(p2, '-')) for p2 in players]))\n",
    "\n",
    "        f.close()\n",
    "        \n",
    "write_crosstable(results_per_map('../../output/test'),'/tmp')"
   ]
  }
 ],
 "metadata": {
  "kernelspec": {
   "display_name": "Python 3",
   "language": "python",
   "name": "python3"
  },
  "language_info": {
   "codemirror_mode": {
    "name": "ipython",
    "version": 3
   },
   "file_extension": ".py",
   "mimetype": "text/x-python",
   "name": "python",
   "nbconvert_exporter": "python",
   "pygments_lexer": "ipython3",
   "version": "3.6.7"
  }
 },
 "nbformat": 4,
 "nbformat_minor": 2
}
