{
 "cells": [
  {
   "cell_type": "code",
   "execution_count": 31,
   "metadata": {},
   "outputs": [],
   "source": [
    "def parse_file(path):\n",
    "    \n",
    "    victory_count = [0, 0] #victories for p1 and p2\n",
    "\n",
    "    lines = open(path).readlines()[1:]\n",
    "\n",
    "    for line in lines:\n",
    "        winner = int(line.split(',')[0])\n",
    "        if winner == 0:\n",
    "            victory_count[0] += 1\n",
    "        elif winner == 1:\n",
    "            victory_count[0] += 1\n",
    "    return victory_count\n"
   ]
  },
  {
   "cell_type": "code",
   "execution_count": 32,
   "metadata": {},
   "outputs": [],
   "source": [
    "import os\n",
    "import glob\n",
    "from collections import defaultdict\n",
    "\n",
    "#path = '../../output/LightRush_PGSSCriptChoiceRandom_BlockDiagonal9x8.csv'\n",
    "\n",
    "def analyse(inputdir):\n",
    "    file_list = glob.glob(os.path.join(inputdir, '*.csv'))\n",
    "\n",
    "    # usage: victories[mapname][player1][player2]\n",
    "    victories = defaultdict(lambda: defaultdict(lambda: defaultdict(lambda: 0)))\n",
    "\n",
    "    for path in file_list:\n",
    "        filename = os.path.splitext(os.path.basename(path))[0]\n",
    "        (p1, p2, mapname) = filename.split('_') \n",
    "\n",
    "        result = parse_file(path)\n",
    "        victories[mapname][p1][p2] += result[0]\n",
    "        victories[mapname][p2][p1] += result[1]\n",
    "\n",
    "    return victories\n",
    "\n",
    "#analyse('../../output')"
   ]
  },
  {
   "cell_type": "code",
   "execution_count": 33,
   "metadata": {},
   "outputs": [],
   "source": [
    "\n",
    "def write_crosstable(results, outdir):\n",
    "    for mapname in results:\n",
    "        f = open(os.path.join(outdir, 'results_%s.csv' % mapname), 'w')\n",
    "\n",
    "        players = results[mapname]\n",
    "\n",
    "        # writes the header\n",
    "        f.write(','.join(['x'] + [player for player in players]) + '\\n')\n",
    "\n",
    "        # writes the cells (one row at a time)\n",
    "        for p1 in players:\n",
    "            #f.write('%s,' p1)\n",
    "            f.write(','.join([p1] + [str(results[mapname][p1][p2]) for p2 in players]) + '\\n')\n",
    "\n",
    "        f.close()\n",
    "        \n",
    "write_crosstable(analyse('../../output'),'/tmp')"
   ]
  }
 ],
 "metadata": {
  "kernelspec": {
   "display_name": "Python 3",
   "language": "python",
   "name": "python3"
  },
  "language_info": {
   "codemirror_mode": {
    "name": "ipython",
    "version": 3
   },
   "file_extension": ".py",
   "mimetype": "text/x-python",
   "name": "python",
   "nbconvert_exporter": "python",
   "pygments_lexer": "ipython3",
   "version": "3.6.7"
  }
 },
 "nbformat": 4,
 "nbformat_minor": 2
}
